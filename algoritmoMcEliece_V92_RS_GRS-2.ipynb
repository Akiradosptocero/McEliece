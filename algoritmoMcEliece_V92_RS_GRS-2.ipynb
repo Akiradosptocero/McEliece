{
 "cells": [
  {
   "cell_type": "markdown",
   "metadata": {
    "collapsed": false
   },
   "source": [
    "---\n",
    "# Ataque al Algoritmo de McEliece con códigos Reed-Solomon y Reed-Solomon Generalizados\n",
    "---"
   ]
  },
  {
   "cell_type": "markdown",
   "metadata": {
    "collapsed": false
   },
   "source": [
    "#### Ataque estandar"
   ]
  },
  {
   "cell_type": "code",
   "execution_count": 0,
   "metadata": {
    "collapsed": false
   },
   "outputs": [
   ],
   "source": [
   ]
  },
  {
   "cell_type": "code",
   "execution_count": 1,
   "metadata": {
    "collapsed": false
   },
   "outputs": [
   ],
   "source": [
    "def codigos_traza(C,C1):\n",
    "\n",
    "    baseC1cuadrado=[];\n",
    "    n=C1.generator_matrix().row(0).length();\n",
    "\n",
    "    for i in range(C1.generator_matrix().nrows()):\n",
    "        for j in range(i,C1.generator_matrix().nrows()):\n",
    "            baseC1cuadrado+=[vector(F,[C1.generator_matrix().row(i)[h]*C1.generator_matrix().row(j)[h] for h in range(n)])];\n",
    "    V = VectorSpace(F,n)\n",
    "\n",
    "    subV = V.subspace(baseC1cuadrado)\n",
    "    Gcuadrada = subV.basis_matrix()\n",
    "    C1cuadrado = codes.LinearCode(Gcuadrada);\n",
    "\n",
    "    if C1cuadrado.dimension() != (2*C1.dimension()-1):\n",
    "        raise TypeError('Deben emplearse códigos GRS para realizar el ataque')\n",
    "\n",
    "    n=len(C1.random_element());\n",
    "    lista=[]\n",
    "    for i in range(C.generator_matrix().nrows()):\n",
    "        for j in range(C1cuadrado.parity_check_matrix().nrows()):\n",
    "            lista+=[list(vector(F,[F(C.generator_matrix().row(i)[h]*C1cuadrado.parity_check_matrix().row(j)[h]) for h in range(n)]))]\n",
    "\n",
    "    AAA=matrix(F,lista)\n",
    "    matrizG_codigo=AAA.right_kernel().basis_matrix()\n",
    "    C2=codes.LinearCode(matrizG_codigo)\n",
    "\n",
    "    return [C2, C1]"
   ]
  },
  {
   "cell_type": "code",
   "execution_count": 2,
   "metadata": {
    "collapsed": false
   },
   "outputs": [
   ],
   "source": [
    "def reducir_codigos_traza(C,C1):\n",
    "\n",
    "    while(C1.dimension() > 1):\n",
    "        [C1,C] = codigos_traza(C,C1);\n",
    "\n",
    "    return [C1,C]"
   ]
  },
  {
   "cell_type": "code",
   "execution_count": 0,
   "metadata": {
    "collapsed": false
   },
   "outputs": [
   ],
   "source": [
   ]
  },
  {
   "cell_type": "code",
   "execution_count": 3,
   "metadata": {
    "collapsed": false
   },
   "outputs": [
   ],
   "source": [
    "def ataque_estandar(CCC,CCC1):\n",
    "    [bb,G]=reducir_codigos_traza(CCC,CCC1)\n",
    "    bb = bb.generator_matrix()\n",
    "    G = G.systematic_generator_matrix()\n",
    "\n",
    "    print(\"Vector B (formato matrix): \")\n",
    "    print(\"filas: \" +str(bb.nrows()) + \" col: \" +str(bb.ncols()))\n",
    "    show(bb)\n",
    "\n",
    "    print(\"Matriz G: \")\n",
    "    print(\"filas: \" +str(G.nrows()) + \" col: \" +str(G.ncols()))\n",
    "    show(G)\n",
    "\n",
    "    F = CCC.base_ring()\n",
    "\n",
    "    g = vector(F,[G[0,i] for i in range(G.ncols())])\n",
    "    b = vector(F,[bb[0,i] for i in range(bb.ncols())])\n",
    "    a = vector(F,[0 for i in range(bb.ncols())])\n",
    "\n",
    "    print(\"Vector a (formato vector): \")\n",
    "    show(a)\n",
    "\n",
    "    print(\"Vector b (formato vector): \")\n",
    "    show(b)\n",
    "\n",
    "    print(\"Vector g (formato vector): \")\n",
    "    show(g)\n",
    "\n",
    "    a[0] = 1\n",
    "    a[1] = 2\n",
    "\n",
    "    for i in list(range(2,len(g))):\n",
    "        print(\"i = \" + str(i))\n",
    "        num = a[1]*b[i]-(a[1]-a[0])*g[i]\n",
    "        den = b[i]\n",
    "\n",
    "        a[i] = (num/den)\n",
    "\n",
    "    return [a,b];"
   ]
  },
  {
   "cell_type": "code",
   "execution_count": 4,
   "metadata": {
    "collapsed": false
   },
   "outputs": [
   ],
   "source": [
    "# ------------------------------------------------------------\n",
    "#\n",
    "# Funcion que realiza el ataque estándar sin la traza\n",
    "#\n",
    "#------------------------------------------------------------\n",
    "\n",
    "def ataque_estandar(CCC,CCC1):\n",
    "    [bb,G]=reducir_codigos_traza(CCC,CCC1)\n",
    "    bb = bb.generator_matrix()\n",
    "    G = G.systematic_generator_matrix()\n",
    "\n",
    "    F = CCC.base_ring()\n",
    "\n",
    "    g = vector(F,[G[0,i] for i in range(G.ncols())])\n",
    "    b = vector(F,[bb[0,i] for i in range(bb.ncols())])\n",
    "    a = vector(F,[0 for i in range(bb.ncols())])\n",
    "\n",
    "    a[0] = 1\n",
    "    a[1] = 2\n",
    "\n",
    "    for i in list(range(2,len(g))):\n",
    "        num = a[1]*b[i]-(a[1]-a[0])*g[i]\n",
    "        den = b[i]\n",
    "\n",
    "        a[i] = (num/den)\n",
    "\n",
    "    return [a,b];"
   ]
  },
  {
   "cell_type": "markdown",
   "metadata": {
    "collapsed": false
   },
   "source": [
    "##### Ejemplo ataque estandar"
   ]
  },
  {
   "cell_type": "code",
   "execution_count": 5,
   "metadata": {
    "collapsed": false,
    "scrolled": true
   },
   "outputs": [
    {
     "data": {
      "text/html": [
       "<html><script type=\"math/tex; mode=display\">\\newcommand{\\Bold}[1]{\\mathbf{#1}}[8, 5, 4] \\textnormal{ Generalized Reed-Solomon Code over } \\Bold{F}_{11}</script></html>"
      ],
      "text/latex": [
       "\\begin{math}\n",
       "\\newcommand{\\Bold}[1]{\\mathbf{#1}}[8, 5, 4] \\textnormal{ Generalized Reed-Solomon Code over } \\Bold{F}_{11}\n",
       "\\end{math}"
      ],
      "text/plain": [
       "[8, 5, 4] Generalized Reed-Solomon Code over GF(11)"
      ]
     },
     "execution_count": 5,
     "metadata": {
     },
     "output_type": "execute_result"
    },
    {
     "data": {
      "text/html": [
       "<html><script type=\"math/tex; mode=display\">\\newcommand{\\Bold}[1]{\\mathbf{#1}}\\left(\\begin{array}{rrrrrrrr}\n",
       "3 & 10 & 5 & 9 & 9 & 10 & 5 & 2 \\\\\n",
       "3 & 9 & 1 & 5 & 2 & 3 & 3 & 8 \\\\\n",
       "3 & 7 & 9 & 4 & 9 & 2 & 4 & 10 \\\\\n",
       "3 & 3 & 4 & 1 & 2 & 5 & 9 & 7 \\\\\n",
       "3 & 6 & 3 & 3 & 9 & 7 & 1 & 6\n",
       "\\end{array}\\right)</script></html>"
      ],
      "text/latex": [
       "\\begin{math}\n",
       "\\newcommand{\\Bold}[1]{\\mathbf{#1}}\\left(\\begin{array}{rrrrrrrr}\n",
       "3 & 10 & 5 & 9 & 9 & 10 & 5 & 2 \\\\\n",
       "3 & 9 & 1 & 5 & 2 & 3 & 3 & 8 \\\\\n",
       "3 & 7 & 9 & 4 & 9 & 2 & 4 & 10 \\\\\n",
       "3 & 3 & 4 & 1 & 2 & 5 & 9 & 7 \\\\\n",
       "3 & 6 & 3 & 3 & 9 & 7 & 1 & 6\n",
       "\\end{array}\\right)\n",
       "\\end{math}"
      ],
      "text/plain": [
       "[ 3 10  5  9  9 10  5  2]\n",
       "[ 3  9  1  5  2  3  3  8]\n",
       "[ 3  7  9  4  9  2  4 10]\n",
       "[ 3  3  4  1  2  5  9  7]\n",
       "[ 3  6  3  3  9  7  1  6]"
      ]
     },
     "execution_count": 5,
     "metadata": {
     },
     "output_type": "execute_result"
    }
   ],
   "source": [
    "F=GF(11);\n",
    "a=[F(i) for i in [1,2,9,3,10,8,5,4]];\n",
    "b=[F(i) for i in [3,10,5,9,9,10,5,2]];\n",
    "k=5\n",
    "C=codes.GeneralizedReedSolomonCode(a, k, b);\n",
    "show(C)\n",
    "show(C.generator_matrix())"
   ]
  },
  {
   "cell_type": "code",
   "execution_count": 6,
   "metadata": {
    "collapsed": false
   },
   "outputs": [
    {
     "data": {
      "text/html": [
       "<html><script type=\"math/tex; mode=display\">\\newcommand{\\Bold}[1]{\\mathbf{#1}}[8, 4, 5] \\textnormal{ Generalized Reed-Solomon Code over } \\Bold{F}_{11}</script></html>"
      ],
      "text/latex": [
       "\\begin{math}\n",
       "\\newcommand{\\Bold}[1]{\\mathbf{#1}}[8, 4, 5] \\textnormal{ Generalized Reed-Solomon Code over } \\Bold{F}_{11}\n",
       "\\end{math}"
      ],
      "text/plain": [
       "[8, 4, 5] Generalized Reed-Solomon Code over GF(11)"
      ]
     },
     "execution_count": 6,
     "metadata": {
     },
     "output_type": "execute_result"
    },
    {
     "data": {
      "text/html": [
       "<html><script type=\"math/tex; mode=display\">\\newcommand{\\Bold}[1]{\\mathbf{#1}}\\left(\\begin{array}{rrrrrrrr}\n",
       "3 & 10 & 5 & 9 & 9 & 10 & 5 & 2 \\\\\n",
       "3 & 9 & 1 & 5 & 2 & 3 & 3 & 8 \\\\\n",
       "3 & 7 & 9 & 4 & 9 & 2 & 4 & 10 \\\\\n",
       "3 & 3 & 4 & 1 & 2 & 5 & 9 & 7\n",
       "\\end{array}\\right)</script></html>"
      ],
      "text/latex": [
       "\\begin{math}\n",
       "\\newcommand{\\Bold}[1]{\\mathbf{#1}}\\left(\\begin{array}{rrrrrrrr}\n",
       "3 & 10 & 5 & 9 & 9 & 10 & 5 & 2 \\\\\n",
       "3 & 9 & 1 & 5 & 2 & 3 & 3 & 8 \\\\\n",
       "3 & 7 & 9 & 4 & 9 & 2 & 4 & 10 \\\\\n",
       "3 & 3 & 4 & 1 & 2 & 5 & 9 & 7\n",
       "\\end{array}\\right)\n",
       "\\end{math}"
      ],
      "text/plain": [
       "[ 3 10  5  9  9 10  5  2]\n",
       "[ 3  9  1  5  2  3  3  8]\n",
       "[ 3  7  9  4  9  2  4 10]\n",
       "[ 3  3  4  1  2  5  9  7]"
      ]
     },
     "execution_count": 6,
     "metadata": {
     },
     "output_type": "execute_result"
    }
   ],
   "source": [
    "C1=codes.GeneralizedReedSolomonCode(a, k-1, b);\n",
    "show(C1)\n",
    "show(C1.generator_matrix())"
   ]
  },
  {
   "cell_type": "code",
   "execution_count": 0,
   "metadata": {
    "collapsed": false
   },
   "outputs": [
   ],
   "source": [
   ]
  },
  {
   "cell_type": "code",
   "execution_count": 7,
   "metadata": {
    "collapsed": false,
    "scrolled": true
   },
   "outputs": [
    {
     "data": {
      "text/plain": [
       "[(1, 2, 9, 3, 10, 8, 5, 4), (1, 7, 9, 3, 3, 7, 9, 8)]"
      ]
     },
     "execution_count": 7,
     "metadata": {
     },
     "output_type": "execute_result"
    }
   ],
   "source": [
    "parametros=ataque_estandar(C,C1)\n",
    "parametros"
   ]
  },
  {
   "cell_type": "code",
   "execution_count": 8,
   "metadata": {
    "collapsed": false
   },
   "outputs": [
    {
     "data": {
      "text/plain": [
       "[(1, 2, 9, 3, 10, 8, 5, 4), (1, 7, 9, 3, 3, 7, 9, 8)]"
      ]
     },
     "execution_count": 8,
     "metadata": {
     },
     "output_type": "execute_result"
    }
   ],
   "source": [
    "parametros"
   ]
  },
  {
   "cell_type": "code",
   "execution_count": 0,
   "metadata": {
    "collapsed": false
   },
   "outputs": [
   ],
   "source": [
   ]
  },
  {
   "cell_type": "code",
   "execution_count": 9,
   "metadata": {
    "collapsed": false
   },
   "outputs": [
    {
     "data": {
      "text/html": [
       "<html><script type=\"math/tex; mode=display\">\\newcommand{\\Bold}[1]{\\mathbf{#1}}\\left[1, 2, 9, 3, 10, 8, 5, 4\\right]</script></html>"
      ],
      "text/latex": [
       "\\begin{math}\n",
       "\\newcommand{\\Bold}[1]{\\mathbf{#1}}\\left[1, 2, 9, 3, 10, 8, 5, 4\\right]\n",
       "\\end{math}"
      ],
      "text/plain": [
       "[1, 2, 9, 3, 10, 8, 5, 4]"
      ]
     },
     "execution_count": 9,
     "metadata": {
     },
     "output_type": "execute_result"
    },
    {
     "data": {
      "text/html": [
       "<html><script type=\"math/tex; mode=display\">\\newcommand{\\Bold}[1]{\\mathbf{#1}}5</script></html>"
      ],
      "text/latex": [
       "\\begin{math}\n",
       "\\newcommand{\\Bold}[1]{\\mathbf{#1}}5\n",
       "\\end{math}"
      ],
      "text/plain": [
       "5"
      ]
     },
     "execution_count": 9,
     "metadata": {
     },
     "output_type": "execute_result"
    },
    {
     "data": {
      "text/html": [
       "<html><script type=\"math/tex; mode=display\">\\newcommand{\\Bold}[1]{\\mathbf{#1}}\\left[1, 7, 9, 3, 3, 7, 9, 8\\right]</script></html>"
      ],
      "text/latex": [
       "\\begin{math}\n",
       "\\newcommand{\\Bold}[1]{\\mathbf{#1}}\\left[1, 7, 9, 3, 3, 7, 9, 8\\right]\n",
       "\\end{math}"
      ],
      "text/plain": [
       "[1, 7, 9, 3, 3, 7, 9, 8]"
      ]
     },
     "execution_count": 9,
     "metadata": {
     },
     "output_type": "execute_result"
    }
   ],
   "source": [
    "show([F(a1) for a1 in parametros[0]])\n",
    "show(k)\n",
    "show([F(b1) for b1 in parametros[1]])"
   ]
  },
  {
   "cell_type": "code",
   "execution_count": 0,
   "metadata": {
    "collapsed": false
   },
   "outputs": [
   ],
   "source": [
   ]
  },
  {
   "cell_type": "code",
   "execution_count": 10,
   "metadata": {
    "collapsed": false
   },
   "outputs": [
    {
     "data": {
      "text/html": [
       "<html><script type=\"math/tex; mode=display\">\\newcommand{\\Bold}[1]{\\mathbf{#1}}[8, 5, 4] \\textnormal{ Generalized Reed-Solomon Code over } \\Bold{F}_{11}</script></html>"
      ],
      "text/latex": [
       "\\begin{math}\n",
       "\\newcommand{\\Bold}[1]{\\mathbf{#1}}[8, 5, 4] \\textnormal{ Generalized Reed-Solomon Code over } \\Bold{F}_{11}\n",
       "\\end{math}"
      ],
      "text/plain": [
       "[8, 5, 4] Generalized Reed-Solomon Code over GF(11)"
      ]
     },
     "execution_count": 10,
     "metadata": {
     },
     "output_type": "execute_result"
    },
    {
     "data": {
      "text/html": [
       "<html><script type=\"math/tex; mode=display\">\\newcommand{\\Bold}[1]{\\mathbf{#1}}\\left(\\begin{array}{rrrrrrrr}\n",
       "1 & 0 & 0 & 0 & 0 & 2 & 2 & 7 \\\\\n",
       "0 & 1 & 0 & 0 & 0 & 7 & 8 & 4 \\\\\n",
       "0 & 0 & 1 & 0 & 0 & 8 & 9 & 9 \\\\\n",
       "0 & 0 & 0 & 1 & 0 & 6 & 7 & 1 \\\\\n",
       "0 & 0 & 0 & 0 & 1 & 3 & 1 & 7\n",
       "\\end{array}\\right)</script></html>"
      ],
      "text/latex": [
       "\\begin{math}\n",
       "\\newcommand{\\Bold}[1]{\\mathbf{#1}}\\left(\\begin{array}{rrrrrrrr}\n",
       "1 & 0 & 0 & 0 & 0 & 2 & 2 & 7 \\\\\n",
       "0 & 1 & 0 & 0 & 0 & 7 & 8 & 4 \\\\\n",
       "0 & 0 & 1 & 0 & 0 & 8 & 9 & 9 \\\\\n",
       "0 & 0 & 0 & 1 & 0 & 6 & 7 & 1 \\\\\n",
       "0 & 0 & 0 & 0 & 1 & 3 & 1 & 7\n",
       "\\end{array}\\right)\n",
       "\\end{math}"
      ],
      "text/plain": [
       "[1 0 0 0 0 2 2 7]\n",
       "[0 1 0 0 0 7 8 4]\n",
       "[0 0 1 0 0 8 9 9]\n",
       "[0 0 0 1 0 6 7 1]\n",
       "[0 0 0 0 1 3 1 7]"
      ]
     },
     "execution_count": 10,
     "metadata": {
     },
     "output_type": "execute_result"
    }
   ],
   "source": [
    "CCCC = codes.GeneralizedReedSolomonCode([F(a1) for a1 in parametros[0]], k,[ F(b1) for b1 in parametros[1]]);\n",
    "show(CCCC)\n",
    "show(CCCC.systematic_generator_matrix())"
   ]
  },
  {
   "cell_type": "code",
   "execution_count": 0,
   "metadata": {
    "collapsed": false
   },
   "outputs": [
   ],
   "source": [
   ]
  },
  {
   "cell_type": "code",
   "execution_count": 11,
   "metadata": {
    "collapsed": false
   },
   "outputs": [
    {
     "data": {
      "text/html": [
       "<html><script type=\"math/tex; mode=display\">\\newcommand{\\Bold}[1]{\\mathbf{#1}}[8, 5, 4] \\textnormal{ Generalized Reed-Solomon Code over } \\Bold{F}_{11}</script></html>"
      ],
      "text/latex": [
       "\\begin{math}\n",
       "\\newcommand{\\Bold}[1]{\\mathbf{#1}}[8, 5, 4] \\textnormal{ Generalized Reed-Solomon Code over } \\Bold{F}_{11}\n",
       "\\end{math}"
      ],
      "text/plain": [
       "[8, 5, 4] Generalized Reed-Solomon Code over GF(11)"
      ]
     },
     "execution_count": 11,
     "metadata": {
     },
     "output_type": "execute_result"
    },
    {
     "data": {
      "text/html": [
       "<html><script type=\"math/tex; mode=display\">\\newcommand{\\Bold}[1]{\\mathbf{#1}}\\left(\\begin{array}{rrrrrrrr}\n",
       "1 & 0 & 0 & 0 & 0 & 2 & 2 & 7 \\\\\n",
       "0 & 1 & 0 & 0 & 0 & 7 & 8 & 4 \\\\\n",
       "0 & 0 & 1 & 0 & 0 & 8 & 9 & 9 \\\\\n",
       "0 & 0 & 0 & 1 & 0 & 6 & 7 & 1 \\\\\n",
       "0 & 0 & 0 & 0 & 1 & 3 & 1 & 7\n",
       "\\end{array}\\right)</script></html>"
      ],
      "text/latex": [
       "\\begin{math}\n",
       "\\newcommand{\\Bold}[1]{\\mathbf{#1}}\\left(\\begin{array}{rrrrrrrr}\n",
       "1 & 0 & 0 & 0 & 0 & 2 & 2 & 7 \\\\\n",
       "0 & 1 & 0 & 0 & 0 & 7 & 8 & 4 \\\\\n",
       "0 & 0 & 1 & 0 & 0 & 8 & 9 & 9 \\\\\n",
       "0 & 0 & 0 & 1 & 0 & 6 & 7 & 1 \\\\\n",
       "0 & 0 & 0 & 0 & 1 & 3 & 1 & 7\n",
       "\\end{array}\\right)\n",
       "\\end{math}"
      ],
      "text/plain": [
       "[1 0 0 0 0 2 2 7]\n",
       "[0 1 0 0 0 7 8 4]\n",
       "[0 0 1 0 0 8 9 9]\n",
       "[0 0 0 1 0 6 7 1]\n",
       "[0 0 0 0 1 3 1 7]"
      ]
     },
     "execution_count": 11,
     "metadata": {
     },
     "output_type": "execute_result"
    }
   ],
   "source": [
    "show(C)\n",
    "show(C.systematic_generator_matrix())"
   ]
  },
  {
   "cell_type": "code",
   "execution_count": 0,
   "metadata": {
    "collapsed": false
   },
   "outputs": [
   ],
   "source": [
   ]
  },
  {
   "cell_type": "code",
   "execution_count": 12,
   "metadata": {
    "collapsed": false
   },
   "outputs": [
    {
     "data": {
      "text/plain": [
       "True"
      ]
     },
     "execution_count": 12,
     "metadata": {
     },
     "output_type": "execute_result"
    }
   ],
   "source": [
    "CCCC.systematic_generator_matrix() == C.systematic_generator_matrix()"
   ]
  },
  {
   "cell_type": "code",
   "execution_count": 0,
   "metadata": {
    "collapsed": false
   },
   "outputs": [
   ],
   "source": [
   ]
  },
  {
   "cell_type": "code",
   "execution_count": 0,
   "metadata": {
    "collapsed": false
   },
   "outputs": [
   ],
   "source": [
   ]
  }
 ],
 "metadata": {
  "kernelspec": {
   "display_name": "SageMath 9.2",
   "language": "sagemath",
   "metadata": {
    "cocalc": {
     "description": "Open-source mathematical software system",
     "priority": 1,
     "url": "https://www.sagemath.org/"
    }
   },
   "name": "sage-9.2",
   "resource_dir": "/ext/jupyter/kernels/sage-9.2"
  },
  "language_info": {
   "codemirror_mode": {
    "name": "ipython",
    "version": 3
   },
   "file_extension": ".py",
   "mimetype": "text/x-python",
   "name": "python",
   "nbconvert_exporter": "python",
   "pygments_lexer": "ipython3",
   "version": "3.8.5"
  }
 },
 "nbformat": 4,
 "nbformat_minor": 4
}